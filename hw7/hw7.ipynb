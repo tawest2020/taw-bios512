{
  "cells": [
    {
      "cell_type": "markdown",
      "id": "766a4c53-5596-4e39-9082-8e97c8e59c41",
      "metadata": {
        "id": "766a4c53-5596-4e39-9082-8e97c8e59c41"
      },
      "source": [
        "# Homework 7\n",
        "## https://github.com/tawest2020/taw-bios512\n",
        "This homework is based on the advanced Git lectures."
      ]
    },
    {
      "cell_type": "markdown",
      "id": "bbb6e943-d49a-4d2e-81f3-59c2d1a3be31",
      "metadata": {
        "id": "bbb6e943-d49a-4d2e-81f3-59c2d1a3be31"
      },
      "source": [
        "## Question 1\n",
        "#### What is the holy trinity of Git? (Just name the parts.)"
      ]
    },
    {
      "cell_type": "markdown",
      "source": [
        "*The Head, the Tree, and the Stage*"
      ],
      "metadata": {
        "id": "zWVmnvofJ5UX"
      },
      "id": "zWVmnvofJ5UX"
    },
    {
      "cell_type": "markdown",
      "id": "47bc27c0-290e-4e94-a071-a37ff613a7c8",
      "metadata": {
        "id": "47bc27c0-290e-4e94-a071-a37ff613a7c8"
      },
      "source": [
        "## Question 2\n",
        "#### Explain how patches relate to the idea of committing a change to the history of your code?"
      ]
    },
    {
      "cell_type": "markdown",
      "source": [
        "While \"git add\" is the creation of a patch, \"git commit\" is recording the patch on to the history of the project you are working on. The commit command exists as a traceable change in the repository that yourself or others can call back to when troubleshooting or understanding what differences have been made."
      ],
      "metadata": {
        "id": "Fc0mclCxShu0"
      },
      "id": "Fc0mclCxShu0"
    },
    {
      "cell_type": "markdown",
      "id": "9aa99e0b-8fbe-4ccc-a728-b39b1fda153c",
      "metadata": {
        "id": "9aa99e0b-8fbe-4ccc-a728-b39b1fda153c"
      },
      "source": [
        "## Question 3\n",
        "#### What is the difference between a branch and a fork?"
      ]
    },
    {
      "cell_type": "markdown",
      "source": [
        "*A branch is a **temporary** linear series of commits, while a fork creates a **permanent** copy that is separated from the original repository*"
      ],
      "metadata": {
        "id": "sBqg3R7_Tk2T"
      },
      "id": "sBqg3R7_Tk2T"
    },
    {
      "cell_type": "markdown",
      "id": "c6ac98c7-e4ea-4274-a88d-398cb739fab9",
      "metadata": {
        "id": "c6ac98c7-e4ea-4274-a88d-398cb739fab9"
      },
      "source": [
        "## Question 4\n",
        "#### How are diff and patch related? What’s the difference?"
      ]
    },
    {
      "cell_type": "markdown",
      "source": [
        "*Both git diff and patch have the purpose of displaying alterations to the repository, however, git diff exists for humans to be able to read and recognize changes between documents while patch is focused on the machine operation and ensuring the system logs the alteration correctly.*"
      ],
      "metadata": {
        "id": "evzFwL22WIsz"
      },
      "id": "evzFwL22WIsz"
    },
    {
      "cell_type": "markdown",
      "id": "02988321-54d5-4086-a62f-d6f7a5961c22",
      "metadata": {
        "id": "02988321-54d5-4086-a62f-d6f7a5961c22"
      },
      "source": [
        "## Question 5\n",
        "#### See the diagram below.\n",
        "```\n",
        "alice            *-*-*-*-d-e     \n",
        "bob              *-*-*-*-a-b-c\n",
        "origin/main      *-*-*-*-a-b-c\n",
        "```\n"
      ]
    },
    {
      "cell_type": "markdown",
      "source": [
        "#### a) What part of the Git trininty does each line represent?  \n",
        "The names of the three rows are the staging area that is highlighting each local branch, the line of code that follows moving left to right it is the head that is showing the history of commits with e or c as our current snapshot, leaving the individual symbols and letters to be the tree itself."
      ],
      "metadata": {
        "id": "exap9xdiUcEg"
      },
      "id": "exap9xdiUcEg"
    },
    {
      "cell_type": "markdown",
      "source": [
        "#### b) What would the result be if Alice performed a rebase? Edit the diagram. What would she type in the terminal to rebase, then push?  \n",
        "Git Rebase will temporaily remove d & e from Alice and add in a,b,c to come first, and then reintroduces d & e once there.  \n",
        "```\n",
        "git fetch\n",
        "git rebase origin main\n",
        "\n",
        "alice            *-*-*-*-a-b-c-d'-e'\n",
        "bob              *-*-*-*-a-b-c\n",
        "origin/main      *-*-*-*-a-b-c-d'-e'\n",
        "\n",
        "git push origin main\n",
        "```"
      ],
      "metadata": {
        "id": "Sa3FbqS4cjja"
      },
      "id": "Sa3FbqS4cjja"
    },
    {
      "cell_type": "markdown",
      "source": [
        "#### c) What would the result be if Alice performed a merge? Edit the diagram. What would she type in the terminal to merge, then push?\n",
        "Git Merge would add d & e to the main branch prior to a,b,c which updates origin/main to sync with Alice, but will no longer sync with Bob.\n",
        "```\n",
        "git fetch\n",
        "git rebase origin main\n",
        "\n",
        "alice            *-*-*-*-d-e-a-b-c     \n",
        "bob              *-*-*-*-a-b-c\n",
        "origin/main      *-*-*-*-d-e-a-b-c\n",
        "\n",
        "git push origin main\n",
        "```"
      ],
      "metadata": {
        "id": "6E2ER1_Bcem2"
      },
      "id": "6E2ER1_Bcem2"
    },
    {
      "cell_type": "markdown",
      "source": [
        "#### d) Which would be the better option (rebase vs. merge)? Why?\n",
        "Git Rebase is better than Git Merge because it allows Bob the chance to pull from origin main to update his local branch and continue working on the repository without obtaining an error among attempting to push later on."
      ],
      "metadata": {
        "id": "Vo2DphXChWQL"
      },
      "id": "Vo2DphXChWQL"
    },
    {
      "cell_type": "markdown",
      "id": "65b5eb8a-cee0-4a97-b89c-8746c37669ea",
      "metadata": {
        "id": "65b5eb8a-cee0-4a97-b89c-8746c37669ea"
      },
      "source": [
        "## Question 6\n",
        "#### Match the command/vocab word to the description.\n",
        "You can edit the table!\n",
        "\n",
        "| Command / Vocab     | Answer | Description |\n",
        "|---------------------|------------|------------|\n",
        "| git stash          | B | A.  Gives project history |\n",
        "| git push           | J | B.  Takes any changes that haven't been committed and puts them in a dust bin |\n",
        "| git clone          | N | C.  Shows who last modified each line of a file and in which commit |\n",
        "| git commit         | M | D.  Retrieves any commits on the remote branch that you don’t yet have locally and integrates them into your current branch |\n",
        "| git log            | A | E.  Moves something from the branch to the working copy |\n",
        "| git add -i         | K | F.  Lists which files are staged, unstaged, and untracked |\n",
        "| git rebase         | P | G.  Displays information about a specific commit |\n",
        "| git init           | Q | H.  Combines two branches together in a way that is not ideal for your collaborators |\n",
        "| git checkout       | E | I.  Adds changes from the working directory to the staging area |\n",
        "| git status         | F | J.  Pushes the new commits to the main branch |\n",
        "| git diff           | O | K.  Interactive staging! |\n",
        "| git merge          | H | L.  Text file that contains names of files Git should not track |\n",
        "| git add            | I | M.  Saves file changes to the main branch |\n",
        "| git pull           | D | N.  Makes a copy of an existing repo at in a new directory at another location |\n",
        "| git show           | G | O.  Compares current, unsaved changes to the main branch |\n",
        "| git blame          | C | P.  Combines branches by moving commits onto the tip of another branch, creating a linear history |\n",
        "| .gitignore         | L | Q. Creates a new git repository |"
      ]
    },
    {
      "cell_type": "markdown",
      "id": "36663f18-7e8a-4400-86ef-1cbda6b508c1",
      "metadata": {
        "id": "36663f18-7e8a-4400-86ef-1cbda6b508c1"
      },
      "source": [
        "## Question 7\n",
        "#### Walk me through how you would do interactive staging.\n"
      ]
    },
    {
      "cell_type": "markdown",
      "source": [
        "#### a) Firstly, what situation would interactive staging be useful in?\n",
        "If you are making multiple types of alterations to your repository or branch but want your commits to be specific to each alteration, you can do interactive staging to select what you want to commit instead of running a commit for every section individually."
      ],
      "metadata": {
        "id": "ikzfGnP3kHqS"
      },
      "id": "ikzfGnP3kHqS"
    },
    {
      "cell_type": "markdown",
      "source": [
        "#### b) What command(s) help you prepare for what you'll see while interactive staging?\n",
        "```\n",
        "cd ~/Documents/BIOS512/taw-bios512\n",
        "git status\n",
        "git diff\n",
        "```"
      ],
      "metadata": {
        "id": "nuDr3j6ql7In"
      },
      "id": "nuDr3j6ql7In"
    },
    {
      "cell_type": "markdown",
      "source": [
        "#### c) What git command would you use to start interactive staging?\n",
        "```\n",
        "git add -i\n",
        "```"
      ],
      "metadata": {
        "id": "VVJ2HoUDmSzA"
      },
      "id": "VVJ2HoUDmSzA"
    },
    {
      "cell_type": "markdown",
      "source": [
        "#### d) On the text-based interactive menu, what option do you use?\n",
        "```\n",
        "p\n",
        "```"
      ],
      "metadata": {
        "id": "BbcSXU9ime0j"
      },
      "id": "BbcSXU9ime0j"
    },
    {
      "cell_type": "markdown",
      "source": [
        "#### e) After pressing that option, how do you select the file you want to stage?\n",
        "Type the number associated with the file you want to edit from the list of files."
      ],
      "metadata": {
        "id": "ck1dBUXspe0q"
      },
      "id": "ck1dBUXspe0q"
    },
    {
      "cell_type": "markdown",
      "source": [
        "#### f) What option do you type if you do not want to stage a hunk?\n",
        "```\n",
        "n\n",
        "```"
      ],
      "metadata": {
        "id": "1FBX_XQptksn"
      },
      "id": "1FBX_XQptksn"
    },
    {
      "cell_type": "markdown",
      "source": [
        "#### g) Once you get to a hunk you want to stage, what do you do?\n",
        "Go through the git diff and view all changes, upon finding a change you want to stage, hit 'y', followed by \"Enter\", \"Ctrl+D\", and \"git status\" to confirm the changes were made."
      ],
      "metadata": {
        "id": "9kYm0qLEu5WQ"
      },
      "id": "9kYm0qLEu5WQ"
    },
    {
      "cell_type": "markdown",
      "source": [
        "#### h) What if we have more hunks we want to stage?\n",
        "Repeat the process again."
      ],
      "metadata": {
        "id": "jPrdsO3z1PVj"
      },
      "id": "jPrdsO3z1PVj"
    }
  ],
  "metadata": {
    "kernelspec": {
      "display_name": "Python 3 (ipykernel)",
      "language": "python",
      "name": "python3"
    },
    "language_info": {
      "codemirror_mode": {
        "name": "ipython",
        "version": 3
      },
      "file_extension": ".py",
      "mimetype": "text/x-python",
      "name": "python",
      "nbconvert_exporter": "python",
      "pygments_lexer": "ipython3",
      "version": "3.10.16"
    },
    "colab": {
      "provenance": []
    }
  },
  "nbformat": 4,
  "nbformat_minor": 5
}