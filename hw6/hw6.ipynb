{
  "nbformat": 4,
  "nbformat_minor": 0,
  "metadata": {
    "colab": {
      "provenance": []
    },
    "kernelspec": {
      "name": "ir",
      "display_name": "R"
    },
    "language_info": {
      "name": "R"
    }
  },
  "cells": [
    {
      "cell_type": "markdown",
      "source": [
        "# Homework 6\n",
        "## https://github.com/tawest2020/taw-bios512\n",
        "\n"
      ],
      "metadata": {
        "id": "aT9nWlhR0yhj"
      }
    },
    {
      "cell_type": "markdown",
      "source": [
        "## Libraries"
      ],
      "metadata": {
        "id": "YnjzKw6Y1AbF"
      }
    },
    {
      "cell_type": "code",
      "execution_count": null,
      "metadata": {
        "id": "7nzX3tCD0W16",
        "colab": {
          "base_uri": "https://localhost:8080/"
        },
        "outputId": "91df0297-09c8-4bf3-b5d4-086e05cd76cc"
      },
      "outputs": [
        {
          "output_type": "stream",
          "name": "stderr",
          "text": [
            "── \u001b[1mAttaching core tidyverse packages\u001b[22m ──────────────────────── tidyverse 2.0.0 ──\n",
            "\u001b[32m✔\u001b[39m \u001b[34mdplyr    \u001b[39m 1.1.4     \u001b[32m✔\u001b[39m \u001b[34mreadr    \u001b[39m 2.1.5\n",
            "\u001b[32m✔\u001b[39m \u001b[34mforcats  \u001b[39m 1.0.1     \u001b[32m✔\u001b[39m \u001b[34mstringr  \u001b[39m 1.5.2\n",
            "\u001b[32m✔\u001b[39m \u001b[34mggplot2  \u001b[39m 4.0.0     \u001b[32m✔\u001b[39m \u001b[34mtibble   \u001b[39m 3.3.0\n",
            "\u001b[32m✔\u001b[39m \u001b[34mlubridate\u001b[39m 1.9.4     \u001b[32m✔\u001b[39m \u001b[34mtidyr    \u001b[39m 1.3.1\n",
            "\u001b[32m✔\u001b[39m \u001b[34mpurrr    \u001b[39m 1.1.0     \n",
            "── \u001b[1mConflicts\u001b[22m ────────────────────────────────────────── tidyverse_conflicts() ──\n",
            "\u001b[31m✖\u001b[39m \u001b[34mdplyr\u001b[39m::\u001b[32mfilter()\u001b[39m masks \u001b[34mstats\u001b[39m::filter()\n",
            "\u001b[31m✖\u001b[39m \u001b[34mdplyr\u001b[39m::\u001b[32mlag()\u001b[39m    masks \u001b[34mstats\u001b[39m::lag()\n",
            "\u001b[36mℹ\u001b[39m Use the conflicted package (\u001b[3m\u001b[34m<http://conflicted.r-lib.org/>\u001b[39m\u001b[23m) to force all conflicts to become errors\n"
          ]
        }
      ],
      "source": [
        "library(tidyverse)"
      ]
    },
    {
      "cell_type": "code",
      "source": [
        "invisible({\n",
        "suppressPackageStartupMessages(library(tidyverse))\n",
        "\n",
        "# Get the data.\n",
        "dialogs <- read_csv(\n",
        "  \"https://raw.githubusercontent.com/Vincent-Toups/bios512/fcbc65a2696c7cff80d0f6ed1dd5c97abf0ef800/effective-visualization/source_data/tng.csv\",\n",
        "  show_col_types = FALSE\n",
        ")\n",
        "head(dialogs, 10) # Showing first 10 observations\n",
        "\n",
        "# Checkout the data.\n",
        "names(dialogs)\n",
        "dialogs %>% group_by(character) %>% tally() %>% arrange(desc(n))\n",
        "dialogs %>% mutate(dialog_length=str_length(dialog)) %>% group_by(character) %>% summarize(mean_dialog_length = mean(dialog_length)) %>% arrange(desc(mean_dialog_length))\n",
        "\n",
        "# Fix weird data.\n",
        "dialogs %>% filter(character==\"BEVERLY'S\")\n",
        "\n",
        "dialogs_fixed <- dialogs %>%\n",
        "  mutate(\n",
        "    character = str_replace_all(character, \"'S.*$\", \"\"),\n",
        "    character = str_replace_all(character, \" VOICE\", \"\"),\n",
        "    character = str_replace_all(character, \"\\\\.\", \"\"),\n",
        "    character = str_replace_all(character, \"'\", \"\"),\n",
        "    character = str_replace_all(character, \"S COM\", \"\"),\n",
        "    character = str_replace_all(character, \" COM\", \"\"),\n",
        "    dialog_length = str_length(dialog)\n",
        "  ) %>%\n",
        "  filter(character %in% unlist(str_split(\"PICARD RIKER DATA TROI BEVERLY WORF WESLEY GEORDI\", \" \")))\n",
        "\n",
        "dialogs_fixed %>% group_by(character) %>% summarize(mean_dialog_length = mean(dialog_length), std_dialog_length=sd(dialog_length)) %>% arrange(desc(mean_dialog_length))\n",
        "\n",
        "dialog_len_per_ep <- dialogs_fixed %>% group_by(character, episode_number) %>% summarize(mean_dialog_length = mean(dialog_length), std_dialog_length=sd(dialog_length), .groups = \"drop\") %>% arrange(desc(mean_dialog_length))\n",
        "\n",
        "dialog_len_per_ep\n",
        "\n",
        "# Plot the data.\n",
        "ggplot(dialogs_fixed) + geom_density(aes(x=dialog_length))\n",
        "\n",
        "for_factor <- dialog_len_per_ep %>% group_by(character) %>% summarise(m=mean(mean_dialog_length)) %>% arrange(desc(m))\n",
        "ggplot(dialog_len_per_ep, aes(factor(character,for_factor$character), mean_dialog_length)) + geom_boxplot()\n",
        "\n",
        "dialog_len_per_ep <- dialogs_fixed %>%\n",
        "    group_by(character, episode_number) %>%\n",
        "    summarize(mean_dialog_length = mean(dialog_length), dialog_count=n(), .groups = \"drop\") %>%\n",
        "    arrange(desc(mean_dialog_length))\n",
        "\n",
        "ggplot(dialog_len_per_ep, aes(dialog_count, mean_dialog_length)) + geom_point(aes(color=character)) + facet_wrap(~character)\n",
        "})"
      ],
      "metadata": {
        "vscode": {
          "languageId": "r"
        },
        "trusted": true,
        "id": "a99536e7-2021-47ad-8785-1593cbb01659"
      },
      "outputs": [],
      "execution_count": null
    },
    {
      "cell_type": "markdown",
      "source": [
        "## Question 1\n",
        "\n",
        "#### How can we tell the character's role in the story by their plot?\n",
        "The further on the x-axis away from 0 the cluster is, the more often the character appears in an episode, thus, a more central role. This is due to a consistently large count of lines per episode, an example being Picard, who rarely has a point on his plot near 0. Being further along the y-axis meanwhile serves to explain the nature of the character, whether or not their lines are quick or longwinded. Troy and Beverly are good examples, as while many times they are limited to 1-2 lines per episode, they are often a longer monologue. This could indicate their role is important or pivotal, but not central to the story."
      ],
      "metadata": {
        "id": "TPhtb6kw1R2o"
      }
    },
    {
      "cell_type": "markdown",
      "source": [
        "## Question 2"
      ],
      "metadata": {
        "id": "vekANlMk37PO"
      }
    },
    {
      "cell_type": "code",
      "source": [
        "bev_eps <- dialogs_fixed %>%\n",
        "  filter(character == \"BEVERLY\",\n",
        "         episode_number %in% c(102:126, 149:174)) %>%\n",
        "  mutate(\n",
        "    season = case_when(\n",
        "      episode_number %in% 102:126 ~ \"Season 1\",\n",
        "      episode_number %in% 149:174 ~ \"Season 3\"\n",
        "    )\n",
        "  )\n",
        "\n",
        "bev_eps_means <- bev_eps %>%\n",
        "  group_by(season, episode_number) %>%\n",
        "  summarize(\n",
        "    mean_dialog_length = mean(dialog_length),\n",
        "    dialog_count = n(),\n",
        "    .groups = \"drop\"\n",
        "  )\n",
        "\n",
        "bev_sns_means <- bev_eps_means %>%\n",
        "  group_by(season) %>%\n",
        "  summarize(\n",
        "    mean_of_mean_dialog_length = mean(mean_dialog_length),\n",
        "    mean_dialog_count = mean(dialog_count),\n",
        "    .groups = \"drop\"\n",
        "  )\n",
        "\n",
        "bev_sns_means\n"
      ],
      "metadata": {
        "colab": {
          "base_uri": "https://localhost:8080/",
          "height": 161
        },
        "id": "FCdpQ7HL6e4P",
        "outputId": "2fe979f3-b985-40a8-fefc-94138df97a6e"
      },
      "execution_count": null,
      "outputs": [
        {
          "output_type": "display_data",
          "data": {
            "text/html": [
              "<table class=\"dataframe\">\n",
              "<caption>A tibble: 2 × 3</caption>\n",
              "<thead>\n",
              "\t<tr><th scope=col>season</th><th scope=col>mean_of_mean_dialog_length</th><th scope=col>mean_dialog_count</th></tr>\n",
              "\t<tr><th scope=col>&lt;chr&gt;</th><th scope=col>&lt;dbl&gt;</th><th scope=col>&lt;dbl&gt;</th></tr>\n",
              "</thead>\n",
              "<tbody>\n",
              "\t<tr><td>Season 1</td><td>56.48460</td><td>25.40</td></tr>\n",
              "\t<tr><td>Season 3</td><td>67.04817</td><td>19.64</td></tr>\n",
              "</tbody>\n",
              "</table>\n"
            ],
            "text/markdown": "\nA tibble: 2 × 3\n\n| season &lt;chr&gt; | mean_of_mean_dialog_length &lt;dbl&gt; | mean_dialog_count &lt;dbl&gt; |\n|---|---|---|\n| Season 1 | 56.48460 | 25.40 |\n| Season 3 | 67.04817 | 19.64 |\n\n",
            "text/latex": "A tibble: 2 × 3\n\\begin{tabular}{lll}\n season & mean\\_of\\_mean\\_dialog\\_length & mean\\_dialog\\_count\\\\\n <chr> & <dbl> & <dbl>\\\\\n\\hline\n\t Season 1 & 56.48460 & 25.40\\\\\n\t Season 3 & 67.04817 & 19.64\\\\\n\\end{tabular}\n",
            "text/plain": [
              "  season   mean_of_mean_dialog_length mean_dialog_count\n",
              "1 Season 1 56.48460                   25.40            \n",
              "2 Season 3 67.04817                   19.64            "
            ]
          },
          "metadata": {}
        }
      ]
    },
    {
      "cell_type": "markdown",
      "source": [
        "From season 1 to season 3, Beverly's character had less frequent lines, however more substantative. One can infer the reason her character began to feel more \"male\" like is due to allowing her to engage in more drawn out conversations with intellectual thought behind it instead of being a chatty character without much complexity behind the words being said."
      ],
      "metadata": {
        "id": "w5y2dLhA_Dx2"
      }
    },
    {
      "cell_type": "markdown",
      "source": [
        "## Question 3"
      ],
      "metadata": {
        "id": "PSdD4JrRAiGc"
      }
    },
    {
      "cell_type": "code",
      "source": [
        "stopwords <- read_lines(\"https://gist.githubusercontent.com/sebleier/554280/raw/\")\n",
        "\n",
        "tokens <- dialogs_fixed %>%\n",
        "  # Split each dialog into words\n",
        "  mutate(word_list = str_split(dialog, \"\\\\s+\")) %>%\n",
        "\n",
        "  # Unnest the list column so each word is a row\n",
        "  unnest(word_list) %>%\n",
        "\n",
        "  # Clean words\n",
        "  mutate(\n",
        "    word = str_remove_all(word_list, \"[[:punct:]]\"),  # Remove punctuation\n",
        "    word = str_to_lower(word)                         # Convert to lowercase\n",
        "  ) %>%\n",
        "\n",
        "  # Remove empty strings and stopwords\n",
        "  filter(word != \"\", !word %in% stopwords)\n",
        "\n",
        "head(tokens, 20)"
      ],
      "metadata": {
        "colab": {
          "base_uri": "https://localhost:8080/",
          "height": 968
        },
        "collapsed": true,
        "id": "DdddjCVqYMFB",
        "outputId": "e83c107a-dc14-47e6-c735-6707128423d5"
      },
      "execution_count": null,
      "outputs": [
        {
          "output_type": "display_data",
          "data": {
            "text/html": [
              "<table class=\"dataframe\">\n",
              "<caption>A tibble: 20 × 6</caption>\n",
              "<thead>\n",
              "\t<tr><th scope=col>episode_number</th><th scope=col>character</th><th scope=col>dialog</th><th scope=col>dialog_length</th><th scope=col>word_list</th><th scope=col>word</th></tr>\n",
              "\t<tr><th scope=col>&lt;dbl&gt;</th><th scope=col>&lt;chr&gt;</th><th scope=col>&lt;chr&gt;</th><th scope=col>&lt;int&gt;</th><th scope=col>&lt;chr&gt;</th><th scope=col>&lt;chr&gt;</th></tr>\n",
              "</thead>\n",
              "<tbody>\n",
              "\t<tr><td>102</td><td>PICARD</td><td>Captain's log, stardate 42353.7. Our destination is planet Cygnus IV, beyond which lies the great unexplored mass of the galaxy.</td><td>128</td><td>Captain's  </td><td>captains   </td></tr>\n",
              "\t<tr><td>102</td><td>PICARD</td><td>Captain's log, stardate 42353.7. Our destination is planet Cygnus IV, beyond which lies the great unexplored mass of the galaxy.</td><td>128</td><td>log,       </td><td>log        </td></tr>\n",
              "\t<tr><td>102</td><td>PICARD</td><td>Captain's log, stardate 42353.7. Our destination is planet Cygnus IV, beyond which lies the great unexplored mass of the galaxy.</td><td>128</td><td>stardate   </td><td>stardate   </td></tr>\n",
              "\t<tr><td>102</td><td>PICARD</td><td>Captain's log, stardate 42353.7. Our destination is planet Cygnus IV, beyond which lies the great unexplored mass of the galaxy.</td><td>128</td><td>42353.7.   </td><td>423537     </td></tr>\n",
              "\t<tr><td>102</td><td>PICARD</td><td>Captain's log, stardate 42353.7. Our destination is planet Cygnus IV, beyond which lies the great unexplored mass of the galaxy.</td><td>128</td><td>destination</td><td>destination</td></tr>\n",
              "\t<tr><td>102</td><td>PICARD</td><td>Captain's log, stardate 42353.7. Our destination is planet Cygnus IV, beyond which lies the great unexplored mass of the galaxy.</td><td>128</td><td>planet     </td><td>planet     </td></tr>\n",
              "\t<tr><td>102</td><td>PICARD</td><td>Captain's log, stardate 42353.7. Our destination is planet Cygnus IV, beyond which lies the great unexplored mass of the galaxy.</td><td>128</td><td>Cygnus     </td><td>cygnus     </td></tr>\n",
              "\t<tr><td>102</td><td>PICARD</td><td>Captain's log, stardate 42353.7. Our destination is planet Cygnus IV, beyond which lies the great unexplored mass of the galaxy.</td><td>128</td><td>IV,        </td><td>iv         </td></tr>\n",
              "\t<tr><td>102</td><td>PICARD</td><td>Captain's log, stardate 42353.7. Our destination is planet Cygnus IV, beyond which lies the great unexplored mass of the galaxy.</td><td>128</td><td>beyond     </td><td>beyond     </td></tr>\n",
              "\t<tr><td>102</td><td>PICARD</td><td>Captain's log, stardate 42353.7. Our destination is planet Cygnus IV, beyond which lies the great unexplored mass of the galaxy.</td><td>128</td><td>lies       </td><td>lies       </td></tr>\n",
              "\t<tr><td>102</td><td>PICARD</td><td>Captain's log, stardate 42353.7. Our destination is planet Cygnus IV, beyond which lies the great unexplored mass of the galaxy.</td><td>128</td><td>great      </td><td>great      </td></tr>\n",
              "\t<tr><td>102</td><td>PICARD</td><td>Captain's log, stardate 42353.7. Our destination is planet Cygnus IV, beyond which lies the great unexplored mass of the galaxy.</td><td>128</td><td>unexplored </td><td>unexplored </td></tr>\n",
              "\t<tr><td>102</td><td>PICARD</td><td>Captain's log, stardate 42353.7. Our destination is planet Cygnus IV, beyond which lies the great unexplored mass of the galaxy.</td><td>128</td><td>mass       </td><td>mass       </td></tr>\n",
              "\t<tr><td>102</td><td>PICARD</td><td>Captain's log, stardate 42353.7. Our destination is planet Cygnus IV, beyond which lies the great unexplored mass of the galaxy.</td><td>128</td><td>galaxy.    </td><td>galaxy     </td></tr>\n",
              "\t<tr><td>102</td><td>PICARD</td><td>My orders are to examine Farpoint, a starbase built there by the inhabitants of that world. Meanwhile ...                       </td><td>105</td><td>orders     </td><td>orders     </td></tr>\n",
              "\t<tr><td>102</td><td>PICARD</td><td>My orders are to examine Farpoint, a starbase built there by the inhabitants of that world. Meanwhile ...                       </td><td>105</td><td>examine    </td><td>examine    </td></tr>\n",
              "\t<tr><td>102</td><td>PICARD</td><td>My orders are to examine Farpoint, a starbase built there by the inhabitants of that world. Meanwhile ...                       </td><td>105</td><td>Farpoint,  </td><td>farpoint   </td></tr>\n",
              "\t<tr><td>102</td><td>PICARD</td><td>My orders are to examine Farpoint, a starbase built there by the inhabitants of that world. Meanwhile ...                       </td><td>105</td><td>starbase   </td><td>starbase   </td></tr>\n",
              "\t<tr><td>102</td><td>PICARD</td><td>My orders are to examine Farpoint, a starbase built there by the inhabitants of that world. Meanwhile ...                       </td><td>105</td><td>built      </td><td>built      </td></tr>\n",
              "\t<tr><td>102</td><td>PICARD</td><td>My orders are to examine Farpoint, a starbase built there by the inhabitants of that world. Meanwhile ...                       </td><td>105</td><td>inhabitants</td><td>inhabitants</td></tr>\n",
              "</tbody>\n",
              "</table>\n"
            ],
            "text/markdown": "\nA tibble: 20 × 6\n\n| episode_number &lt;dbl&gt; | character &lt;chr&gt; | dialog &lt;chr&gt; | dialog_length &lt;int&gt; | word_list &lt;chr&gt; | word &lt;chr&gt; |\n|---|---|---|---|---|---|\n| 102 | PICARD | Captain's log, stardate 42353.7. Our destination is planet Cygnus IV, beyond which lies the great unexplored mass of the galaxy. | 128 | Captain's   | captains    |\n| 102 | PICARD | Captain's log, stardate 42353.7. Our destination is planet Cygnus IV, beyond which lies the great unexplored mass of the galaxy. | 128 | log,        | log         |\n| 102 | PICARD | Captain's log, stardate 42353.7. Our destination is planet Cygnus IV, beyond which lies the great unexplored mass of the galaxy. | 128 | stardate    | stardate    |\n| 102 | PICARD | Captain's log, stardate 42353.7. Our destination is planet Cygnus IV, beyond which lies the great unexplored mass of the galaxy. | 128 | 42353.7.    | 423537      |\n| 102 | PICARD | Captain's log, stardate 42353.7. Our destination is planet Cygnus IV, beyond which lies the great unexplored mass of the galaxy. | 128 | destination | destination |\n| 102 | PICARD | Captain's log, stardate 42353.7. Our destination is planet Cygnus IV, beyond which lies the great unexplored mass of the galaxy. | 128 | planet      | planet      |\n| 102 | PICARD | Captain's log, stardate 42353.7. Our destination is planet Cygnus IV, beyond which lies the great unexplored mass of the galaxy. | 128 | Cygnus      | cygnus      |\n| 102 | PICARD | Captain's log, stardate 42353.7. Our destination is planet Cygnus IV, beyond which lies the great unexplored mass of the galaxy. | 128 | IV,         | iv          |\n| 102 | PICARD | Captain's log, stardate 42353.7. Our destination is planet Cygnus IV, beyond which lies the great unexplored mass of the galaxy. | 128 | beyond      | beyond      |\n| 102 | PICARD | Captain's log, stardate 42353.7. Our destination is planet Cygnus IV, beyond which lies the great unexplored mass of the galaxy. | 128 | lies        | lies        |\n| 102 | PICARD | Captain's log, stardate 42353.7. Our destination is planet Cygnus IV, beyond which lies the great unexplored mass of the galaxy. | 128 | great       | great       |\n| 102 | PICARD | Captain's log, stardate 42353.7. Our destination is planet Cygnus IV, beyond which lies the great unexplored mass of the galaxy. | 128 | unexplored  | unexplored  |\n| 102 | PICARD | Captain's log, stardate 42353.7. Our destination is planet Cygnus IV, beyond which lies the great unexplored mass of the galaxy. | 128 | mass        | mass        |\n| 102 | PICARD | Captain's log, stardate 42353.7. Our destination is planet Cygnus IV, beyond which lies the great unexplored mass of the galaxy. | 128 | galaxy.     | galaxy      |\n| 102 | PICARD | My orders are to examine Farpoint, a starbase built there by the inhabitants of that world. Meanwhile ...                        | 105 | orders      | orders      |\n| 102 | PICARD | My orders are to examine Farpoint, a starbase built there by the inhabitants of that world. Meanwhile ...                        | 105 | examine     | examine     |\n| 102 | PICARD | My orders are to examine Farpoint, a starbase built there by the inhabitants of that world. Meanwhile ...                        | 105 | Farpoint,   | farpoint    |\n| 102 | PICARD | My orders are to examine Farpoint, a starbase built there by the inhabitants of that world. Meanwhile ...                        | 105 | starbase    | starbase    |\n| 102 | PICARD | My orders are to examine Farpoint, a starbase built there by the inhabitants of that world. Meanwhile ...                        | 105 | built       | built       |\n| 102 | PICARD | My orders are to examine Farpoint, a starbase built there by the inhabitants of that world. Meanwhile ...                        | 105 | inhabitants | inhabitants |\n\n",
            "text/latex": "A tibble: 20 × 6\n\\begin{tabular}{llllll}\n episode\\_number & character & dialog & dialog\\_length & word\\_list & word\\\\\n <dbl> & <chr> & <chr> & <int> & <chr> & <chr>\\\\\n\\hline\n\t 102 & PICARD & Captain's log, stardate 42353.7. Our destination is planet Cygnus IV, beyond which lies the great unexplored mass of the galaxy. & 128 & Captain's   & captains   \\\\\n\t 102 & PICARD & Captain's log, stardate 42353.7. Our destination is planet Cygnus IV, beyond which lies the great unexplored mass of the galaxy. & 128 & log,        & log        \\\\\n\t 102 & PICARD & Captain's log, stardate 42353.7. Our destination is planet Cygnus IV, beyond which lies the great unexplored mass of the galaxy. & 128 & stardate    & stardate   \\\\\n\t 102 & PICARD & Captain's log, stardate 42353.7. Our destination is planet Cygnus IV, beyond which lies the great unexplored mass of the galaxy. & 128 & 42353.7.    & 423537     \\\\\n\t 102 & PICARD & Captain's log, stardate 42353.7. Our destination is planet Cygnus IV, beyond which lies the great unexplored mass of the galaxy. & 128 & destination & destination\\\\\n\t 102 & PICARD & Captain's log, stardate 42353.7. Our destination is planet Cygnus IV, beyond which lies the great unexplored mass of the galaxy. & 128 & planet      & planet     \\\\\n\t 102 & PICARD & Captain's log, stardate 42353.7. Our destination is planet Cygnus IV, beyond which lies the great unexplored mass of the galaxy. & 128 & Cygnus      & cygnus     \\\\\n\t 102 & PICARD & Captain's log, stardate 42353.7. Our destination is planet Cygnus IV, beyond which lies the great unexplored mass of the galaxy. & 128 & IV,         & iv         \\\\\n\t 102 & PICARD & Captain's log, stardate 42353.7. Our destination is planet Cygnus IV, beyond which lies the great unexplored mass of the galaxy. & 128 & beyond      & beyond     \\\\\n\t 102 & PICARD & Captain's log, stardate 42353.7. Our destination is planet Cygnus IV, beyond which lies the great unexplored mass of the galaxy. & 128 & lies        & lies       \\\\\n\t 102 & PICARD & Captain's log, stardate 42353.7. Our destination is planet Cygnus IV, beyond which lies the great unexplored mass of the galaxy. & 128 & great       & great      \\\\\n\t 102 & PICARD & Captain's log, stardate 42353.7. Our destination is planet Cygnus IV, beyond which lies the great unexplored mass of the galaxy. & 128 & unexplored  & unexplored \\\\\n\t 102 & PICARD & Captain's log, stardate 42353.7. Our destination is planet Cygnus IV, beyond which lies the great unexplored mass of the galaxy. & 128 & mass        & mass       \\\\\n\t 102 & PICARD & Captain's log, stardate 42353.7. Our destination is planet Cygnus IV, beyond which lies the great unexplored mass of the galaxy. & 128 & galaxy.     & galaxy     \\\\\n\t 102 & PICARD & My orders are to examine Farpoint, a starbase built there by the inhabitants of that world. Meanwhile ...                        & 105 & orders      & orders     \\\\\n\t 102 & PICARD & My orders are to examine Farpoint, a starbase built there by the inhabitants of that world. Meanwhile ...                        & 105 & examine     & examine    \\\\\n\t 102 & PICARD & My orders are to examine Farpoint, a starbase built there by the inhabitants of that world. Meanwhile ...                        & 105 & Farpoint,   & farpoint   \\\\\n\t 102 & PICARD & My orders are to examine Farpoint, a starbase built there by the inhabitants of that world. Meanwhile ...                        & 105 & starbase    & starbase   \\\\\n\t 102 & PICARD & My orders are to examine Farpoint, a starbase built there by the inhabitants of that world. Meanwhile ...                        & 105 & built       & built      \\\\\n\t 102 & PICARD & My orders are to examine Farpoint, a starbase built there by the inhabitants of that world. Meanwhile ...                        & 105 & inhabitants & inhabitants\\\\\n\\end{tabular}\n",
            "text/plain": [
              "   episode_number character\n",
              "1  102            PICARD   \n",
              "2  102            PICARD   \n",
              "3  102            PICARD   \n",
              "4  102            PICARD   \n",
              "5  102            PICARD   \n",
              "6  102            PICARD   \n",
              "7  102            PICARD   \n",
              "8  102            PICARD   \n",
              "9  102            PICARD   \n",
              "10 102            PICARD   \n",
              "11 102            PICARD   \n",
              "12 102            PICARD   \n",
              "13 102            PICARD   \n",
              "14 102            PICARD   \n",
              "15 102            PICARD   \n",
              "16 102            PICARD   \n",
              "17 102            PICARD   \n",
              "18 102            PICARD   \n",
              "19 102            PICARD   \n",
              "20 102            PICARD   \n",
              "   dialog                                                                                                                          \n",
              "1  Captain's log, stardate 42353.7. Our destination is planet Cygnus IV, beyond which lies the great unexplored mass of the galaxy.\n",
              "2  Captain's log, stardate 42353.7. Our destination is planet Cygnus IV, beyond which lies the great unexplored mass of the galaxy.\n",
              "3  Captain's log, stardate 42353.7. Our destination is planet Cygnus IV, beyond which lies the great unexplored mass of the galaxy.\n",
              "4  Captain's log, stardate 42353.7. Our destination is planet Cygnus IV, beyond which lies the great unexplored mass of the galaxy.\n",
              "5  Captain's log, stardate 42353.7. Our destination is planet Cygnus IV, beyond which lies the great unexplored mass of the galaxy.\n",
              "6  Captain's log, stardate 42353.7. Our destination is planet Cygnus IV, beyond which lies the great unexplored mass of the galaxy.\n",
              "7  Captain's log, stardate 42353.7. Our destination is planet Cygnus IV, beyond which lies the great unexplored mass of the galaxy.\n",
              "8  Captain's log, stardate 42353.7. Our destination is planet Cygnus IV, beyond which lies the great unexplored mass of the galaxy.\n",
              "9  Captain's log, stardate 42353.7. Our destination is planet Cygnus IV, beyond which lies the great unexplored mass of the galaxy.\n",
              "10 Captain's log, stardate 42353.7. Our destination is planet Cygnus IV, beyond which lies the great unexplored mass of the galaxy.\n",
              "11 Captain's log, stardate 42353.7. Our destination is planet Cygnus IV, beyond which lies the great unexplored mass of the galaxy.\n",
              "12 Captain's log, stardate 42353.7. Our destination is planet Cygnus IV, beyond which lies the great unexplored mass of the galaxy.\n",
              "13 Captain's log, stardate 42353.7. Our destination is planet Cygnus IV, beyond which lies the great unexplored mass of the galaxy.\n",
              "14 Captain's log, stardate 42353.7. Our destination is planet Cygnus IV, beyond which lies the great unexplored mass of the galaxy.\n",
              "15 My orders are to examine Farpoint, a starbase built there by the inhabitants of that world. Meanwhile ...                       \n",
              "16 My orders are to examine Farpoint, a starbase built there by the inhabitants of that world. Meanwhile ...                       \n",
              "17 My orders are to examine Farpoint, a starbase built there by the inhabitants of that world. Meanwhile ...                       \n",
              "18 My orders are to examine Farpoint, a starbase built there by the inhabitants of that world. Meanwhile ...                       \n",
              "19 My orders are to examine Farpoint, a starbase built there by the inhabitants of that world. Meanwhile ...                       \n",
              "20 My orders are to examine Farpoint, a starbase built there by the inhabitants of that world. Meanwhile ...                       \n",
              "   dialog_length word_list   word       \n",
              "1  128           Captain's   captains   \n",
              "2  128           log,        log        \n",
              "3  128           stardate    stardate   \n",
              "4  128           42353.7.    423537     \n",
              "5  128           destination destination\n",
              "6  128           planet      planet     \n",
              "7  128           Cygnus      cygnus     \n",
              "8  128           IV,         iv         \n",
              "9  128           beyond      beyond     \n",
              "10 128           lies        lies       \n",
              "11 128           great       great      \n",
              "12 128           unexplored  unexplored \n",
              "13 128           mass        mass       \n",
              "14 128           galaxy.     galaxy     \n",
              "15 105           orders      orders     \n",
              "16 105           examine     examine    \n",
              "17 105           Farpoint,   farpoint   \n",
              "18 105           starbase    starbase   \n",
              "19 105           built       built      \n",
              "20 105           inhabitants inhabitants"
            ]
          },
          "metadata": {}
        }
      ]
    },
    {
      "cell_type": "code",
      "source": [
        "vocab_summary <- tokens %>%\n",
        "  group_by(character) %>%\n",
        "  summarize(\n",
        "    total_words = n(),\n",
        "    unique_words = n_distinct(word),\n",
        "    vocab_richness = unique_words / total_words,\n",
        "    .groups = \"drop\"\n",
        "  ) %>%\n",
        "  arrange(desc(vocab_richness))\n",
        "\n",
        "vocab_summary\n"
      ],
      "metadata": {
        "colab": {
          "base_uri": "https://localhost:8080/",
          "height": 349
        },
        "id": "3D5m-UA5a5Lo",
        "outputId": "dd561c34-a66d-4180-b4d0-736e3ca4db34"
      },
      "execution_count": null,
      "outputs": [
        {
          "output_type": "display_data",
          "data": {
            "text/html": [
              "<table class=\"dataframe\">\n",
              "<caption>A tibble: 8 × 4</caption>\n",
              "<thead>\n",
              "\t<tr><th scope=col>character</th><th scope=col>total_words</th><th scope=col>unique_words</th><th scope=col>vocab_richness</th></tr>\n",
              "\t<tr><th scope=col>&lt;chr&gt;</th><th scope=col>&lt;int&gt;</th><th scope=col>&lt;int&gt;</th><th scope=col>&lt;dbl&gt;</th></tr>\n",
              "</thead>\n",
              "<tbody>\n",
              "\t<tr><td>WESLEY </td><td> 7601</td><td>2291</td><td>0.3014077</td></tr>\n",
              "\t<tr><td>WORF   </td><td>18820</td><td>4318</td><td>0.2294368</td></tr>\n",
              "\t<tr><td>TROI   </td><td>19450</td><td>4187</td><td>0.2152699</td></tr>\n",
              "\t<tr><td>BEVERLY</td><td>22900</td><td>4875</td><td>0.2128821</td></tr>\n",
              "\t<tr><td>DATA   </td><td>45462</td><td>8593</td><td>0.1890150</td></tr>\n",
              "\t<tr><td>GEORDI </td><td>31978</td><td>5465</td><td>0.1708987</td></tr>\n",
              "\t<tr><td>RIKER  </td><td>41827</td><td>6458</td><td>0.1543979</td></tr>\n",
              "\t<tr><td>PICARD </td><td>79214</td><td>9272</td><td>0.1170500</td></tr>\n",
              "</tbody>\n",
              "</table>\n"
            ],
            "text/markdown": "\nA tibble: 8 × 4\n\n| character &lt;chr&gt; | total_words &lt;int&gt; | unique_words &lt;int&gt; | vocab_richness &lt;dbl&gt; |\n|---|---|---|---|\n| WESLEY  |  7601 | 2291 | 0.3014077 |\n| WORF    | 18820 | 4318 | 0.2294368 |\n| TROI    | 19450 | 4187 | 0.2152699 |\n| BEVERLY | 22900 | 4875 | 0.2128821 |\n| DATA    | 45462 | 8593 | 0.1890150 |\n| GEORDI  | 31978 | 5465 | 0.1708987 |\n| RIKER   | 41827 | 6458 | 0.1543979 |\n| PICARD  | 79214 | 9272 | 0.1170500 |\n\n",
            "text/latex": "A tibble: 8 × 4\n\\begin{tabular}{llll}\n character & total\\_words & unique\\_words & vocab\\_richness\\\\\n <chr> & <int> & <int> & <dbl>\\\\\n\\hline\n\t WESLEY  &  7601 & 2291 & 0.3014077\\\\\n\t WORF    & 18820 & 4318 & 0.2294368\\\\\n\t TROI    & 19450 & 4187 & 0.2152699\\\\\n\t BEVERLY & 22900 & 4875 & 0.2128821\\\\\n\t DATA    & 45462 & 8593 & 0.1890150\\\\\n\t GEORDI  & 31978 & 5465 & 0.1708987\\\\\n\t RIKER   & 41827 & 6458 & 0.1543979\\\\\n\t PICARD  & 79214 & 9272 & 0.1170500\\\\\n\\end{tabular}\n",
            "text/plain": [
              "  character total_words unique_words vocab_richness\n",
              "1 WESLEY     7601       2291         0.3014077     \n",
              "2 WORF      18820       4318         0.2294368     \n",
              "3 TROI      19450       4187         0.2152699     \n",
              "4 BEVERLY   22900       4875         0.2128821     \n",
              "5 DATA      45462       8593         0.1890150     \n",
              "6 GEORDI    31978       5465         0.1708987     \n",
              "7 RIKER     41827       6458         0.1543979     \n",
              "8 PICARD    79214       9272         0.1170500     "
            ]
          },
          "metadata": {}
        }
      ]
    },
    {
      "cell_type": "code",
      "source": [
        "ggplot(vocab_summary, aes(x = total_words, y = vocab_richness)) +\n",
        "  geom_text(aes(label = character)) +\n",
        "  labs(\n",
        "    title = \"Vocab Richness vs. Total Words\",\n",
        "    x = \"Total Words (stopwords filtered)\",\n",
        "    y = \"Vocab Richness (Unique / Total)\"\n",
        "  ) +\n",
        "  theme_minimal() +\n",
        "  theme(legend.position = \"none\")\n"
      ],
      "metadata": {
        "colab": {
          "base_uri": "https://localhost:8080/",
          "height": 437
        },
        "id": "I01VeIC9ArSF",
        "outputId": "33e7ee3c-1664-469d-9d4d-7c42f6972554"
      },
      "execution_count": null,
      "outputs": [
        {
          "output_type": "display_data",
          "data": {
            "text/plain": [
              "plot without title"
            ],
            "image/png": "[encoded data removed]"
          },
          "metadata": {
            "image/png": {
              "width": 420,
              "height": 420
            }
          }
        }
      ]
    },
    {
      "cell_type": "markdown",
      "source": [
        "There is a negative linear association where as more words are spoken, the vocabulary contains less unique words, therefore losing richness. This is certainly due to the simple fact that the chance of repeating words increases as more words are spoken."
      ],
      "metadata": {
        "id": "newzlzTXCy1j"
      }
    },
    {
      "cell_type": "markdown",
      "source": [
        "## Question 4"
      ],
      "metadata": {
        "id": "2kb5ccgTDb5G"
      }
    },
    {
      "cell_type": "code",
      "source": [
        "wesley_gone <- dialogs_fixed %>%\n",
        "  filter(character == \"WESLEY\", episode_number > 174) %>%\n",
        "  count(episode_number, name = \"dialog_count\")\n",
        "\n",
        "wesley_gone\n"
      ],
      "metadata": {
        "colab": {
          "base_uri": "https://localhost:8080/",
          "height": 443
        },
        "id": "OeBilg_2DiIO",
        "outputId": "e4be9dc8-5c75-40d1-b924-ed1bcbb67a41"
      },
      "execution_count": null,
      "outputs": [
        {
          "output_type": "display_data",
          "data": {
            "text/html": [
              "<table class=\"dataframe\">\n",
              "<caption>A tibble: 11 × 2</caption>\n",
              "<thead>\n",
              "\t<tr><th scope=col>episode_number</th><th scope=col>dialog_count</th></tr>\n",
              "\t<tr><th scope=col>&lt;dbl&gt;</th><th scope=col>&lt;int&gt;</th></tr>\n",
              "</thead>\n",
              "<tbody>\n",
              "\t<tr><td>175</td><td> 18</td></tr>\n",
              "\t<tr><td>176</td><td>  6</td></tr>\n",
              "\t<tr><td>177</td><td>  9</td></tr>\n",
              "\t<tr><td>178</td><td>  6</td></tr>\n",
              "\t<tr><td>179</td><td> 38</td></tr>\n",
              "\t<tr><td>181</td><td>  2</td></tr>\n",
              "\t<tr><td>183</td><td> 94</td></tr>\n",
              "\t<tr><td>206</td><td>131</td></tr>\n",
              "\t<tr><td>219</td><td> 71</td></tr>\n",
              "\t<tr><td>263</td><td> 18</td></tr>\n",
              "\t<tr><td>272</td><td> 97</td></tr>\n",
              "</tbody>\n",
              "</table>\n"
            ],
            "text/markdown": "\nA tibble: 11 × 2\n\n| episode_number &lt;dbl&gt; | dialog_count &lt;int&gt; |\n|---|---|\n| 175 |  18 |\n| 176 |   6 |\n| 177 |   9 |\n| 178 |   6 |\n| 179 |  38 |\n| 181 |   2 |\n| 183 |  94 |\n| 206 | 131 |\n| 219 |  71 |\n| 263 |  18 |\n| 272 |  97 |\n\n",
            "text/latex": "A tibble: 11 × 2\n\\begin{tabular}{ll}\n episode\\_number & dialog\\_count\\\\\n <dbl> & <int>\\\\\n\\hline\n\t 175 &  18\\\\\n\t 176 &   6\\\\\n\t 177 &   9\\\\\n\t 178 &   6\\\\\n\t 179 &  38\\\\\n\t 181 &   2\\\\\n\t 183 &  94\\\\\n\t 206 & 131\\\\\n\t 219 &  71\\\\\n\t 263 &  18\\\\\n\t 272 &  97\\\\\n\\end{tabular}\n",
            "text/plain": [
              "   episode_number dialog_count\n",
              "1  175             18         \n",
              "2  176              6         \n",
              "3  177              9         \n",
              "4  178              6         \n",
              "5  179             38         \n",
              "6  181              2         \n",
              "7  183             94         \n",
              "8  206            131         \n",
              "9  219             71         \n",
              "10 263             18         \n",
              "11 272             97         "
            ]
          },
          "metadata": {}
        }
      ]
    },
    {
      "cell_type": "markdown",
      "source": [
        "#### a) Wesley leaves the main cast in episode 183\n",
        "#### b) Wesley makes cameos in episodes 206, 219, 263, and 272"
      ],
      "metadata": {
        "id": "kFleQaLpFEzM"
      }
    },
    {
      "cell_type": "markdown",
      "source": [
        "#### c) Wesley's final line as a main cast member and final line of the series"
      ],
      "metadata": {
        "id": "02WzMR1UF6j9"
      }
    },
    {
      "cell_type": "code",
      "source": [
        "wesley_last_183 <- dialogs_fixed %>%\n",
        "  filter(character == \"WESLEY\", episode_number == 183) %>%\n",
        "  slice_tail(n = 1)\n",
        "\n",
        "wesley_last_272 <- dialogs_fixed %>%\n",
        "  filter(character == \"WESLEY\", episode_number == 272) %>%\n",
        "  slice_tail(n = 1)\n",
        "\n",
        "wesley_last_183\n",
        "wesley_last_272"
      ],
      "metadata": {
        "colab": {
          "base_uri": "https://localhost:8080/",
          "height": 242
        },
        "id": "YZ52uAJWFpxu",
        "outputId": "82683326-80a3-418d-9b79-d80c37b8fcb2"
      },
      "execution_count": null,
      "outputs": [
        {
          "output_type": "display_data",
          "data": {
            "text/html": [
              "<table class=\"dataframe\">\n",
              "<caption>A tibble: 1 × 4</caption>\n",
              "<thead>\n",
              "\t<tr><th scope=col>episode_number</th><th scope=col>character</th><th scope=col>dialog</th><th scope=col>dialog_length</th></tr>\n",
              "\t<tr><th scope=col>&lt;dbl&gt;</th><th scope=col>&lt;chr&gt;</th><th scope=col>&lt;chr&gt;</th><th scope=col>&lt;int&gt;</th></tr>\n",
              "</thead>\n",
              "<tbody>\n",
              "\t<tr><td>183</td><td>WESLEY</td><td>I can walk.</td><td>11</td></tr>\n",
              "</tbody>\n",
              "</table>\n"
            ],
            "text/markdown": "\nA tibble: 1 × 4\n\n| episode_number &lt;dbl&gt; | character &lt;chr&gt; | dialog &lt;chr&gt; | dialog_length &lt;int&gt; |\n|---|---|---|---|\n| 183 | WESLEY | I can walk. | 11 |\n\n",
            "text/latex": "A tibble: 1 × 4\n\\begin{tabular}{llll}\n episode\\_number & character & dialog & dialog\\_length\\\\\n <dbl> & <chr> & <chr> & <int>\\\\\n\\hline\n\t 183 & WESLEY & I can walk. & 11\\\\\n\\end{tabular}\n",
            "text/plain": [
              "  episode_number character dialog      dialog_length\n",
              "1 183            WESLEY    I can walk. 11           "
            ]
          },
          "metadata": {}
        },
        {
          "output_type": "display_data",
          "data": {
            "text/html": [
              "<table class=\"dataframe\">\n",
              "<caption>A tibble: 1 × 4</caption>\n",
              "<thead>\n",
              "\t<tr><th scope=col>episode_number</th><th scope=col>character</th><th scope=col>dialog</th><th scope=col>dialog_length</th></tr>\n",
              "\t<tr><th scope=col>&lt;dbl&gt;</th><th scope=col>&lt;chr&gt;</th><th scope=col>&lt;chr&gt;</th><th scope=col>&lt;int&gt;</th></tr>\n",
              "</thead>\n",
              "<tbody>\n",
              "\t<tr><td>272</td><td>WESLEY</td><td>Good-bye, Mom.</td><td>14</td></tr>\n",
              "</tbody>\n",
              "</table>\n"
            ],
            "text/markdown": "\nA tibble: 1 × 4\n\n| episode_number &lt;dbl&gt; | character &lt;chr&gt; | dialog &lt;chr&gt; | dialog_length &lt;int&gt; |\n|---|---|---|---|\n| 272 | WESLEY | Good-bye, Mom. | 14 |\n\n",
            "text/latex": "A tibble: 1 × 4\n\\begin{tabular}{llll}\n episode\\_number & character & dialog & dialog\\_length\\\\\n <dbl> & <chr> & <chr> & <int>\\\\\n\\hline\n\t 272 & WESLEY & Good-bye, Mom. & 14\\\\\n\\end{tabular}\n",
            "text/plain": [
              "  episode_number character dialog         dialog_length\n",
              "1 272            WESLEY    Good-bye, Mom. 14           "
            ]
          },
          "metadata": {}
        }
      ]
    },
    {
      "cell_type": "markdown",
      "source": [
        "## Question 5"
      ],
      "metadata": {
        "id": "QszlTAEVHi9v"
      }
    },
    {
      "cell_type": "code",
      "source": [
        "cast_order <- dialog_len_per_ep %>%\n",
        "  group_by(character) %>%\n",
        "  summarize(overall_mean = mean(mean_dialog_length), .groups = \"drop\") %>%\n",
        "  arrange(overall_mean) %>%\n",
        "  pull(character)\n",
        "\n",
        "cast_order_f <- dialog_len_per_ep %>%\n",
        "  mutate(character = factor(character, levels = cast_order))\n",
        "\n",
        "ggplot(cast_order_f, aes(x = episode_number, y = character, fill = mean_dialog_length)) +\n",
        "  geom_tile() +\n",
        "  scale_fill_viridis_c(option = \"cividis\") +\n",
        "  labs(\n",
        "    title = \"Mean Dialog Length per Episode by Character\",\n",
        "    x = \"Episode Number\",\n",
        "    y = \"Character\",\n",
        "    fill = \"Average Length of Dialogue\"\n",
        "  )"
      ],
      "metadata": {
        "colab": {
          "base_uri": "https://localhost:8080/",
          "height": 437
        },
        "id": "utxPTf8SHkuy",
        "outputId": "aea00144-21b5-42fc-bbe0-02ba11ea25de"
      },
      "execution_count": null,
      "outputs": [
        {
          "output_type": "display_data",
          "data": {
            "text/plain": [
              "plot without title"
            ],
            "image/png": "[encoded data removed]"
          },
          "metadata": {
            "image/png": {
              "width": 420,
              "height": 420
            }
          }
        }
      ]
    }
  ]
}